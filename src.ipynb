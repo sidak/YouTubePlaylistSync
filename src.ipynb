{
 "cells": [
  {
   "cell_type": "code",
   "execution_count": 2,
   "metadata": {
    "collapsed": true
   },
   "outputs": [],
   "source": [
    "from bs4 import BeautifulSoup"
   ]
  },
  {
   "cell_type": "code",
   "execution_count": 3,
   "metadata": {
    "collapsed": true
   },
   "outputs": [],
   "source": [
    "from os import listdir\n",
    "from os.path import isfile, join"
   ]
  },
  {
   "cell_type": "code",
   "execution_count": 4,
   "metadata": {
    "collapsed": true
   },
   "outputs": [],
   "source": [
    "import requests\n",
    "import os\n",
    "import re"
   ]
  },
  {
   "cell_type": "code",
   "execution_count": 5,
   "metadata": {
    "collapsed": true
   },
   "outputs": [],
   "source": [
    "url = \"https://www.youtube.com/playlist?list=PLbzpIznMzZ7MCBvdVht0KVMC7MdnKdbui\""
   ]
  },
  {
   "cell_type": "code",
   "execution_count": 6,
   "metadata": {
    "collapsed": true
   },
   "outputs": [],
   "source": [
    "def makeRequest(url, hdr):\n",
    "    http_proxy  = os.environ.get(\"HTTP_PROXY\")\n",
    "    https_proxy = os.environ.get(\"HTTPS_PROXY\")\n",
    "    ftp_proxy   = os.environ.get(\"FTP_PROXY\")\n",
    "\n",
    "    proxyDict = { \n",
    "        \"http\"  : http_proxy,\n",
    "        \"https\" : https_proxy,\n",
    "        \"ftp\"   : ftp_proxy\n",
    "        }\n",
    "\n",
    "    req = requests.get(url, headers=hdr, proxies=proxyDict)\n",
    "    return req\n"
   ]
  },
  {
   "cell_type": "code",
   "execution_count": 7,
   "metadata": {
    "collapsed": false
   },
   "outputs": [],
   "source": [
    "response = makeRequest(url, {})"
   ]
  },
  {
   "cell_type": "code",
   "execution_count": 8,
   "metadata": {
    "collapsed": false
   },
   "outputs": [],
   "source": [
    "html = response.content"
   ]
  },
  {
   "cell_type": "code",
   "execution_count": 9,
   "metadata": {
    "collapsed": false,
    "scrolled": true
   },
   "outputs": [],
   "source": [
    "soup = BeautifulSoup(html, 'html.parser')"
   ]
  },
  {
   "cell_type": "code",
   "execution_count": 10,
   "metadata": {
    "collapsed": true
   },
   "outputs": [],
   "source": [
    "pattern = re.compile(r'/watch\\?v=')"
   ]
  },
  {
   "cell_type": "code",
   "execution_count": 11,
   "metadata": {
    "collapsed": true
   },
   "outputs": [],
   "source": [
    "found = soup.find_all('a', 'yt-uix-tile-link', href=pattern)\n"
   ]
  },
  {
   "cell_type": "code",
   "execution_count": 12,
   "metadata": {
    "collapsed": false
   },
   "outputs": [],
   "source": [
    "songs=[(x.text.encode('utf-8'), x.get('href')) for x in found]\n"
   ]
  },
  {
   "cell_type": "code",
   "execution_count": 13,
   "metadata": {
    "collapsed": true
   },
   "outputs": [],
   "source": [
    "path = '/home/sidak/Music/Hindi_Songs_Youtube/'"
   ]
  },
  {
   "cell_type": "code",
   "execution_count": 14,
   "metadata": {
    "collapsed": true
   },
   "outputs": [],
   "source": [
    "os.chdir(path)"
   ]
  },
  {
   "cell_type": "code",
   "execution_count": 15,
   "metadata": {
    "collapsed": true
   },
   "outputs": [],
   "source": [
    "extn = \".mp3\" "
   ]
  },
  {
   "cell_type": "code",
   "execution_count": 16,
   "metadata": {
    "collapsed": false
   },
   "outputs": [],
   "source": [
    "command_tokens = [\n",
    "        'youtube-dl',\n",
    "        '--ignore-errors',\n",
    "        '--extract-audio',\n",
    "        '--audio-format mp3',\n",
    "        '--audio-quality 0',\n",
    "       '--output \\'%(title)s.%(ext)s\\'']\n",
    "\n"
   ]
  },
  {
   "cell_type": "code",
   "execution_count": 17,
   "metadata": {
    "collapsed": true
   },
   "outputs": [],
   "source": [
    "file_names = [f for f in listdir(path) if isfile(join(path, f))]\n",
    "file_names = [\" \".join(re.findall(\"[a-zA-Z0-9]+\", file_name)) for file_name in file_names]"
   ]
  },
  {
   "cell_type": "code",
   "execution_count": null,
   "metadata": {
    "collapsed": false
   },
   "outputs": [
    {
     "name": "stdout",
     "output_type": "stream",
     "text": [
      "Has been downloaded previously:  Dil Ko Aaya Sukoon|Rangrezz| Rahat Fateh Ali Khan & Hiral Brahmbhatt\n",
      "Has been downloaded previously:  Anwar - Maula Mere Maula Aankhein Teri Kitni Haseen Ke Inka Aashique - RoopKumar Rathod\n",
      "Has been downloaded previously:  Khamoshiyan - Title Song | Ali Fazal | Sapna Pabbi | Gurmeet Choudhary | Arijit Singh\n",
      "Has been downloaded previously:  Mere Haath Mein - Full Song | Fanaa | Aamir Khan | Kajol\n",
      "Has been downloaded previously:  \"Piya Aaye Na\" Aashiqui 2 Full Song with Lyrics | Aditya Roy Kapur, Shraddha Kapoor\n",
      "Has been downloaded previously:  Kabhi Jo Baadal Barse - Jackpot\n",
      "Downloading:  [Deleted video]\n",
      "Error\n",
      "Has been downloaded previously:  Jeena Jeena (Audio Song) | Badlapur | Varun Dhawan, Yami Gautam & Nawazuddin Siddiqui\n",
      "Has been downloaded previously:  Bhula Dena Mujhe - Aashiqui 2 1080p\n",
      "Has been downloaded previously:  teri yaad- Adnan sami\n",
      "Has been downloaded previously:  naina lagiyan baarishan HQ Ajana anjani\n",
      "Downloading:  [Deleted video]\n",
      "Error\n",
      "Has been downloaded previously:  Hangover - Kick (Salman Khan) | Female Cover by Shirley Setia ft. Arjun Bhat\n",
      "Has been downloaded previously:  Tu Zaroori - Zid | Female Cover by Shirley Setia ft. Arjun Bhat | (Sunidhi Chauhan, Sharib - Toshi)\n",
      "Has been downloaded previously:  \"Jai Ho\" Slumdog Millionaire OST (Full song)\n",
      "Has been downloaded previously:  Teri Baari Hai Full Video | MARY KOM | Priyanka Chopra | Mohit Chauhan | HD\n",
      "Has been downloaded previously:  'Tu Hai Ki Nahi' Video Song | Roy | Ankit Tiwari | Ranbir Kapoor, Jacqueline Fernandez, Tseries\n",
      "Has been downloaded previously:  Sooraj Dooba Hain Video Song | Roy | Arijit singh|Ranbir Kapoor | Arjun Rampal | Jacqueline\n",
      "Has been downloaded previously:  Rang De Basanti- Robaroo [A R Rahman &  Naresh Iyer]\n",
      "Has been downloaded previously:  Jane Kyun Log [Full Song] Dil Chahta Hai\n",
      "Downloading:  Luka Chuppi (Full Song)-Rang De Basanti\n",
      "Error\n",
      "Has been downloaded previously:  Abhi Mujh Mein Kahin- Agneepath (Feat: Pradip Somasundaran)\n",
      "Has been downloaded previously:  Bhaag Milkha Bhaag - Farhan Akhtar | Zinda Lyric\n",
      "Has been downloaded previously:  Kal Ho Naa Ho - Title Track Video | Shahrukh Khan, Saif, Preity\n",
      "Has been downloaded previously:  \"Milne Hai Mujhse Aayi Aashiqui 2\" Full Video Song | Aditya Roy Kapur, Shraddha Kapoor\n",
      "Has been downloaded previously:  Kiska Hai Yeh Tumko Intezar\n",
      "Has been downloaded previously:  Har Kisi Ko Nahi Milta Yahan Pyaar Zindagi Mein-Boss FULL HD\n",
      "Has been downloaded previously:  Rang De Basanti - Title Track (Full Song) HQ.mp4\n",
      "Has been downloaded previously:  Tere Ho Ke Rahenge    Raja Natwarlal Official Video   ft' Emraan Hashmi, Humaima Malick   HD 1080p\n",
      "Has been downloaded previously:  Dheere Dheere Se Meri Zindagi Video Song (OFFICIAL) Hrithik Roshan, Sonam Kapoor | Yo Yo Honey Singh\n",
      "Has been downloaded previously:  Meherbaan Full Video | BANG BANG! | feat Hrithik Roshan & Katrina Kaif | Vishal Shekhar\n",
      "Has been downloaded previously:  Saiyaara - Full Song | Ek Tha Tiger | Salman Khan | Katrina Kaif\n",
      "Has been downloaded previously:  Ilahi Yeh Jawaani Hai Deewani Full Video Song | Ranbir Kapoor, Deepika Padukone\n",
      "Has been downloaded previously:  Raabta (Kehte Hain Khuda) Full Song With Lyrics | Agent Vinod | Saif Ali Khan, Kareena Kapoor\n",
      "Has been downloaded previously:  kyun aaj kal neend kam khwaab jyada hai\n",
      "Has been downloaded previously:  Kabhi Kabhi Aditi Zindagi (Full Song) Film  Jaane Tu Ya Jaane Na\n",
      "Has been downloaded previously:  Jiya Dhadak Dhadak Jaye - Rahat Fateh Ali Khan (720p Full Wide Screen)\n",
      "Has been downloaded previously:  Shreya Ghoshal *HD* Jaadu Hai Nasha Hai - Jism (16:9)\n",
      "Has been downloaded previously:  Bol Na Halke (Original DVD Full Song)\n",
      "Has been downloaded previously:  Atif Aslam - Woh Lamhe Woh Baatein*HD* (16:9)\n",
      "Has been downloaded previously:  Ya Ali  - Zubeen Garg - Emraan Hashmi -  Kangna Ranaut - Gangster [2006]\n",
      "Has been downloaded previously:  Sanam Re | Female Cover by Shirley Setia ft. Kushal Chheda | (Arijit Singh)\n",
      "Downloading:  [Deleted video]\n",
      "Error\n",
      "Has been downloaded previously:  Chak De! India [English Translation] Lyrics\n",
      "Downloading:  Dil Se Re Full Video Song | Dil Se | Shahrukh Khan, Manisha Koirala | A R Rahman\n",
      "Error\n",
      "Downloading:  Behne De : Raavan : AR Rahman\n",
      "Error\n",
      "Downloading:  [Deleted video]\n",
      "Error\n",
      "Downloading:  Bol Do Na Zara (Azhar) | Female Cover by Shirley Setia ft. Antareep Hazarika, Darrel Mascarenhas\n",
      "Error"
     ]
    }
   ],
   "source": [
    "for song in songs:\n",
    "    name = song[0]\n",
    "    name = name.strip()\n",
    "    \n",
    "    video_link = song[1]\n",
    "    video_link = str(video_link.strip())\n",
    "    video_link=video_link.split('&')\n",
    "    song_link = video_link[0]\n",
    "    \n",
    "    song_id = song_link.split('=')[1]\n",
    "    \n",
    "    full_name = name+extn\n",
    "    full_name_simplified = \" \".join(re.findall(\"[a-zA-Z0-9]+\", full_name))\n",
    "    \n",
    "    full_name_with_id = name + '-' + song_id + extn\n",
    "    full_name_with_id_simplified = \" \".join(re.findall(\"[a-zA-Z0-9]+\", full_name_with_id))\n",
    "    \n",
    "    if((full_name_simplified in file_names) or (full_name_with_id_simplified in file_names)):\n",
    "        print \"Has been downloaded previously: \", name\n",
    "        continue\n",
    "    else:\n",
    "        print \"Downloading: \", name   \n",
    "    \n",
    "    \n",
    "    command_tokens.append('https://www.youtube.com' + song_link)\n",
    "    command = ' '.join(command_tokens)\n",
    "    if (os.system(command) == 0):\n",
    "        continue\n",
    "    else:\n",
    "        print \"Error\"\n",
    "        "
   ]
  },
  {
   "cell_type": "code",
   "execution_count": 17,
   "metadata": {
    "collapsed": false
   },
   "outputs": [],
   "source": [
    "name = songs[2][0]"
   ]
  },
  {
   "cell_type": "code",
   "execution_count": 18,
   "metadata": {
    "collapsed": false
   },
   "outputs": [],
   "source": [
    "name = name.strip()"
   ]
  },
  {
   "cell_type": "code",
   "execution_count": 19,
   "metadata": {
    "collapsed": false
   },
   "outputs": [
    {
     "data": {
      "text/plain": [
       "'Khamoshiyan - Title Song | Ali Fazal | Sapna Pabbi | Gurmeet Choudhary | Arijit Singh'"
      ]
     },
     "execution_count": 19,
     "metadata": {},
     "output_type": "execute_result"
    }
   ],
   "source": [
    "name"
   ]
  },
  {
   "cell_type": "code",
   "execution_count": 20,
   "metadata": {
    "collapsed": false
   },
   "outputs": [],
   "source": [
    "video_link = songs[2][1]"
   ]
  },
  {
   "cell_type": "code",
   "execution_count": 21,
   "metadata": {
    "collapsed": false
   },
   "outputs": [],
   "source": [
    "video_link = str(video_link.strip())"
   ]
  },
  {
   "cell_type": "code",
   "execution_count": 22,
   "metadata": {
    "collapsed": false
   },
   "outputs": [],
   "source": [
    "video_link=video_link.split('&')"
   ]
  },
  {
   "cell_type": "code",
   "execution_count": 23,
   "metadata": {
    "collapsed": true
   },
   "outputs": [],
   "source": [
    "song_link = video_link[0]"
   ]
  },
  {
   "cell_type": "code",
   "execution_count": 24,
   "metadata": {
    "collapsed": false
   },
   "outputs": [
    {
     "data": {
      "text/plain": [
       "'/watch?v=Mv3SZDP7QUo'"
      ]
     },
     "execution_count": 24,
     "metadata": {},
     "output_type": "execute_result"
    }
   ],
   "source": [
    "song_link"
   ]
  },
  {
   "cell_type": "code",
   "execution_count": 25,
   "metadata": {
    "collapsed": true
   },
   "outputs": [],
   "source": [
    "song_id = song_link.split('=')[1]"
   ]
  },
  {
   "cell_type": "code",
   "execution_count": 26,
   "metadata": {
    "collapsed": false
   },
   "outputs": [
    {
     "data": {
      "text/plain": [
       "'Mv3SZDP7QUo'"
      ]
     },
     "execution_count": 26,
     "metadata": {},
     "output_type": "execute_result"
    }
   ],
   "source": [
    "song_id"
   ]
  },
  {
   "cell_type": "code",
   "execution_count": 29,
   "metadata": {
    "collapsed": true
   },
   "outputs": [],
   "source": [
    "full_name = name+'-'+song_id+extn"
   ]
  },
  {
   "cell_type": "code",
   "execution_count": 30,
   "metadata": {
    "collapsed": false
   },
   "outputs": [
    {
     "data": {
      "text/plain": [
       "'Khamoshiyan - Title Song | Ali Fazal | Sapna Pabbi | Gurmeet Choudhary | Arijit Singh-Mv3SZDP7QUo.mp3'"
      ]
     },
     "execution_count": 30,
     "metadata": {},
     "output_type": "execute_result"
    }
   ],
   "source": [
    "full_name"
   ]
  },
  {
   "cell_type": "code",
   "execution_count": 61,
   "metadata": {
    "collapsed": true
   },
   "outputs": [],
   "source": [
    "command = ' '.join(command_tokens)"
   ]
  },
  {
   "cell_type": "code",
   "execution_count": 62,
   "metadata": {
    "collapsed": false
   },
   "outputs": [
    {
     "data": {
      "text/plain": [
       "\"youtube-dl --extract-audio --audio-format mp3 --audio-quality 0 --output 'Anwar - Maula Mere Maula Aankhein Teri Kitni Haseen Ke Inka Aashique - RoopKumar Rathod.mp3' https://www.youtube.com/watch?v=RwJmfMPlXaU\""
      ]
     },
     "execution_count": 62,
     "metadata": {},
     "output_type": "execute_result"
    }
   ],
   "source": [
    "command"
   ]
  },
  {
   "cell_type": "code",
   "execution_count": 160,
   "metadata": {
    "collapsed": false
   },
   "outputs": [
    {
     "data": {
      "text/plain": [
       "0"
      ]
     },
     "execution_count": 160,
     "metadata": {},
     "output_type": "execute_result"
    }
   ],
   "source": [
    "os.system(command)"
   ]
  },
  {
   "cell_type": "code",
   "execution_count": 158,
   "metadata": {
    "collapsed": true
   },
   "outputs": [],
   "source": [
    "command = ' '.join(command_tokens)"
   ]
  },
  {
   "cell_type": "code",
   "execution_count": 32,
   "metadata": {
    "collapsed": false
   },
   "outputs": [
    {
     "data": {
      "text/plain": [
       "['youtube-dl',\n",
       " '--extract-audio',\n",
       " '--audio-format mp3',\n",
       " '--audio-quality 0',\n",
       " \"--output '%(title)s.%(ext)s'\",\n",
       " 'https://www.youtube.com/watch?v=sntrCk3Ym-Q']"
      ]
     },
     "execution_count": 32,
     "metadata": {},
     "output_type": "execute_result"
    }
   ],
   "source": [
    "command_tokens"
   ]
  },
  {
   "cell_type": "code",
   "execution_count": 159,
   "metadata": {
    "collapsed": false
   },
   "outputs": [
    {
     "data": {
      "text/plain": [
       "\"youtube-dl --extract-audio --audio-format mp3 --audio-quality 0 --output '%(title)s.%(ext)s' https://www.youtube.com/watch?v=Mv3SZDP7QUo\""
      ]
     },
     "execution_count": 159,
     "metadata": {},
     "output_type": "execute_result"
    }
   ],
   "source": [
    "command"
   ]
  },
  {
   "cell_type": "code",
   "execution_count": 135,
   "metadata": {
    "collapsed": true
   },
   "outputs": [],
   "source": [
    "command1 = \"youtube-dl --extract-audio --audio-format mp3 --audio-quality 0 https://www.youtube.com/watch?v=5n4-une1aPQ\""
   ]
  },
  {
   "cell_type": "code",
   "execution_count": 20,
   "metadata": {
    "collapsed": true
   },
   "outputs": [],
   "source": [
    "import re\n",
    "word1 = \" \".join(re.findall(\"[a-zA-Z0-9]+\", full_name))"
   ]
  },
  {
   "cell_type": "code",
   "execution_count": 21,
   "metadata": {
    "collapsed": false
   },
   "outputs": [
    {
     "data": {
      "text/plain": [
       "'Khamoshiyan Title Song Ali Fazal Sapna Pabbi Gurmeet Choudhary Arijit Singh mp3'"
      ]
     },
     "execution_count": 21,
     "metadata": {},
     "output_type": "execute_result"
    }
   ],
   "source": [
    "word1"
   ]
  },
  {
   "cell_type": "code",
   "execution_count": 34,
   "metadata": {
    "collapsed": false
   },
   "outputs": [],
   "source": [
    "from os import listdir\n",
    "from os.path import isfile, join\n",
    "file_names = [f for f in listdir(path) if isfile(join(path, f))]\n"
   ]
  },
  {
   "cell_type": "code",
   "execution_count": 24,
   "metadata": {
    "collapsed": false
   },
   "outputs": [
    {
     "data": {
      "text/plain": [
       "'/home/sidak/Music/Hindi_Songs_Youtube/'"
      ]
     },
     "execution_count": 24,
     "metadata": {},
     "output_type": "execute_result"
    }
   ],
   "source": [
    "path"
   ]
  },
  {
   "cell_type": "code",
   "execution_count": 35,
   "metadata": {
    "collapsed": false
   },
   "outputs": [],
   "source": [
    "file_names = [\" \".join(re.findall(\"[a-zA-Z0-9]+\", file_name)) for file_name in file_names]\n"
   ]
  },
  {
   "cell_type": "code",
   "execution_count": 36,
   "metadata": {
    "collapsed": false
   },
   "outputs": [
    {
     "data": {
      "text/plain": [
       "['Dil Ko Aaya Sukoon Rangrezz Rahat Fateh Ali Khan Hiral Brahmbhatt RwJmfMPlXaU mp3',\n",
       " 'Ishq Wala Love SOTY Alia Bhatt Sidharth Malhotra Varun Dhawan VmH8tELQ3aE mp3',\n",
       " 'Anwar Maula Mere Maula Aankhein Teri Kitni Haseen Ke Inka Aashique RoopKumar Rathod mp3',\n",
       " 'Mere Haath Mein Full Song Fanaa Aamir Khan Kajol mp3',\n",
       " 'Jai Ho Slumdog Millionaire OST Full song UxLSZoFK8EM mp3',\n",
       " 'Je T aime Full Song Befikre Ranveer Singh Vaani Kapoor Vishal Dadlani Sunidhi Chauhan i0h2ZBBlbNE mp3',\n",
       " 'Hangover Kick Salman Khan Female Cover by Shirley Setia ft Arjun Bhat u gUic2zV 8 mp3',\n",
       " 'Tu Hai Ki Nahi Video Song Roy Ankit Tiwari Ranbir Kapoor Jacqueline Fernandez Tseries zmotgOJDKXk mp3',\n",
       " 'Kabhi Jo Baadal Barse Jackpot 2OTABRUzyFQ mp3',\n",
       " 'Jane Kyun Log Full Song Dil Chahta Hai zz5KauCbjPI mp3',\n",
       " 'Ude Dil Befikre Full Song Befikre Ranveer Singh Vaani Kapoor Benny Dayal gXe KWe YMs mp3',\n",
       " 'Jeena Jeena Audio Song Badlapur Varun Dhawan Yami Gautam Nawazuddin Siddiqui zFdi834FiZ4 mp3',\n",
       " 'naina lagiyan baarishan HQ Ajana anjani kEBriX5OOJI mp3',\n",
       " 'bitch mp3',\n",
       " 'HUA HAIN AAJ PEHLI BAAR SANAM RE Pulkit Samrat Urvashi Rautela Divya Khosla Kumar THEM3786 mp3',\n",
       " 'Piya Aaye Na Aashiqui 2 Full Song with Lyrics Aditya Roy Kapur Shraddha Kapoor 2bMEe0UYa8E mp3',\n",
       " 'New hd song Suno na sange mar mar 8gc4U6L2hZM mp3',\n",
       " 'The Humma Song OK Jaanu Shraddha Kapoor Aditya Roy Kapur A R Rahman Badshah Tanishk 1tVL11ULjYY mp3',\n",
       " 'Anwar Maula Mere Maula Aankhein Teri Kitni Haseen Ke Inka Aashique RoopKumar Rathod UvAPcNPXVDQ mp3',\n",
       " 'Chak De India English Translation Lyrics mp3',\n",
       " 'Tu Zaroori Zid Female Cover by Shirley Setia ft Arjun Bhat Sunidhi Chauhan Sharib Toshi U2EiAOr Rcw mp3',\n",
       " 'SANAM RE Song VIDEO Pulkit Samrat Yami Gautam Urvashi Rautela Divya Khosla Kumar T Series mp3',\n",
       " 'bitch1 mp3',\n",
       " 'Chahu Main Yaa Naa Aashiqui 2 1080p HD Song cOLvi3uEhfE mp3',\n",
       " 'Khamoshiyan Title Song Ali Fazal Sapna Pabbi Gurmeet Choudhary Arijit Singh mp3',\n",
       " 'Bulleya Lyric Video Ae Dil Hai Mushkil Ranbir Aishwarya sntrCk3Ym Q mp3',\n",
       " 'Teri Baari Hai Full Video MARY KOM Priyanka Chopra Mohit Chauhan HD 858lvkopFOw mp3',\n",
       " 'Rang De Basanti Robaroo A R Rahman Naresh Iyer MsvctHab310 mp3',\n",
       " 'teri yaad Adnan sami y4nIGzoh7ZM mp3',\n",
       " 'Bhula Dena Mujhe Aashiqui 2 1080p yAEEqncV3f4 mp3',\n",
       " 'Sooraj Dooba Hain Video Song Roy Arijit singh Ranbir Kapoor Arjun Rampal Jacqueline bVl3om0 GFE mp3',\n",
       " 'Nashe Si Chadh Gayi Song Befikre Ranveer Singh Vaani Kapoor Arijit Singh Wd2B8OAotU8 mp3']"
      ]
     },
     "execution_count": 36,
     "metadata": {},
     "output_type": "execute_result"
    }
   ],
   "source": [
    "file_names"
   ]
  },
  {
   "cell_type": "code",
   "execution_count": 29,
   "metadata": {
    "collapsed": false
   },
   "outputs": [
    {
     "data": {
      "text/plain": [
       "True"
      ]
     },
     "execution_count": 29,
     "metadata": {},
     "output_type": "execute_result"
    }
   ],
   "source": [
    "word1 in onlyfiles\n"
   ]
  },
  {
   "cell_type": "code",
   "execution_count": 31,
   "metadata": {
    "collapsed": false
   },
   "outputs": [
    {
     "data": {
      "text/plain": [
       "'/home/sidak/Music/Hindi_Songs_Youtube'"
      ]
     },
     "execution_count": 31,
     "metadata": {},
     "output_type": "execute_result"
    }
   ],
   "source": [
    "os.getcwd()"
   ]
  },
  {
   "cell_type": "markdown",
   "metadata": {
    "collapsed": true
   },
   "source": [
    "While trying to download a video that has been removed or can't be downloaded (say for copyright reasons), then it restarts from the beginning. \n"
   ]
  },
  {
   "cell_type": "markdown",
   "metadata": {},
   "source": [
    "os.command() spawns a thread, once an error occurs our command is trying to ignore it and redownload it. \n"
   ]
  },
  {
   "cell_type": "code",
   "execution_count": 17,
   "metadata": {
    "collapsed": false
   },
   "outputs": [
    {
     "data": {
      "text/plain": [
       "[('\\n      Dil Ko Aaya Sukoon|Rangrezz| Rahat Fateh Ali Khan & Hiral Brahmbhatt\\n    ',\n",
       "  u'/watch?v=RwJmfMPlXaU&index=1&list=PLbzpIznMzZ7MCBvdVht0KVMC7MdnKdbui'),\n",
       " ('\\n      Anwar - Maula Mere Maula Aankhein Teri Kitni Haseen Ke Inka Aashique - RoopKumar Rathod\\n    ',\n",
       "  u'/watch?v=UvAPcNPXVDQ&index=2&list=PLbzpIznMzZ7MCBvdVht0KVMC7MdnKdbui'),\n",
       " ('\\n      Khamoshiyan - Title Song | Ali Fazal | Sapna Pabbi | Gurmeet Choudhary | Arijit Singh\\n    ',\n",
       "  u'/watch?v=Mv3SZDP7QUo&index=3&list=PLbzpIznMzZ7MCBvdVht0KVMC7MdnKdbui'),\n",
       " ('\\n      Mere Haath Mein - Full Song | Fanaa | Aamir Khan | Kajol\\n    ',\n",
       "  u'/watch?v=5n4-une1aPQ&index=4&list=PLbzpIznMzZ7MCBvdVht0KVMC7MdnKdbui'),\n",
       " ('\\n      \"Piya Aaye Na\" Aashiqui 2 Full Song with Lyrics | Aditya Roy Kapur, Shraddha Kapoor\\n    ',\n",
       "  u'/watch?v=2bMEe0UYa8E&index=5&list=PLbzpIznMzZ7MCBvdVht0KVMC7MdnKdbui'),\n",
       " ('\\n      Kabhi Jo Baadal Barse - Jackpot\\n    ',\n",
       "  u'/watch?v=2OTABRUzyFQ&index=6&list=PLbzpIznMzZ7MCBvdVht0KVMC7MdnKdbui'),\n",
       " ('\\n      [Deleted video]\\n    ',\n",
       "  u'/watch?v=8gc4U6L2hZM&index=7&list=PLbzpIznMzZ7MCBvdVht0KVMC7MdnKdbui'),\n",
       " ('\\n      Jeena Jeena (Audio Song) | Badlapur | Varun Dhawan, Yami Gautam & Nawazuddin Siddiqui\\n    ',\n",
       "  u'/watch?v=zFdi834FiZ4&index=8&list=PLbzpIznMzZ7MCBvdVht0KVMC7MdnKdbui'),\n",
       " ('\\n      Bhula Dena Mujhe - Aashiqui 2 1080p\\n    ',\n",
       "  u'/watch?v=yAEEqncV3f4&index=9&list=PLbzpIznMzZ7MCBvdVht0KVMC7MdnKdbui'),\n",
       " ('\\n      teri yaad- Adnan sami\\n    ',\n",
       "  u'/watch?v=y4nIGzoh7ZM&index=10&list=PLbzpIznMzZ7MCBvdVht0KVMC7MdnKdbui'),\n",
       " ('\\n      naina lagiyan baarishan HQ Ajana anjani\\n    ',\n",
       "  u'/watch?v=kEBriX5OOJI&index=11&list=PLbzpIznMzZ7MCBvdVht0KVMC7MdnKdbui'),\n",
       " ('\\n      [Deleted video]\\n    ',\n",
       "  u'/watch?v=cOLvi3uEhfE&index=12&list=PLbzpIznMzZ7MCBvdVht0KVMC7MdnKdbui'),\n",
       " ('\\n      Hangover - Kick (Salman Khan) | Female Cover by Shirley Setia ft. Arjun Bhat\\n    ',\n",
       "  u'/watch?v=u-gUic2zV_8&index=13&list=PLbzpIznMzZ7MCBvdVht0KVMC7MdnKdbui'),\n",
       " ('\\n      Tu Zaroori - Zid | Female Cover by Shirley Setia ft. Arjun Bhat | (Sunidhi Chauhan, Sharib - Toshi)\\n    ',\n",
       "  u'/watch?v=U2EiAOr_Rcw&index=14&list=PLbzpIznMzZ7MCBvdVht0KVMC7MdnKdbui'),\n",
       " ('\\n      \"Jai Ho\" Slumdog Millionaire OST (Full song)\\n    ',\n",
       "  u'/watch?v=UxLSZoFK8EM&index=15&list=PLbzpIznMzZ7MCBvdVht0KVMC7MdnKdbui'),\n",
       " ('\\n      Teri Baari Hai Full Video | MARY KOM | Priyanka Chopra | Mohit Chauhan | HD\\n    ',\n",
       "  u'/watch?v=858lvkopFOw&index=16&list=PLbzpIznMzZ7MCBvdVht0KVMC7MdnKdbui'),\n",
       " (\"\\n      'Tu Hai Ki Nahi' Video Song | Roy | Ankit Tiwari | Ranbir Kapoor, Jacqueline Fernandez, Tseries\\n    \",\n",
       "  u'/watch?v=zmotgOJDKXk&index=17&list=PLbzpIznMzZ7MCBvdVht0KVMC7MdnKdbui'),\n",
       " ('\\n      Sooraj Dooba Hain Video Song | Roy | Arijit singh|Ranbir Kapoor | Arjun Rampal | Jacqueline\\n    ',\n",
       "  u'/watch?v=bVl3om0-GFE&index=18&list=PLbzpIznMzZ7MCBvdVht0KVMC7MdnKdbui'),\n",
       " ('\\n      Rang De Basanti- Robaroo [A R Rahman &  Naresh Iyer]\\n    ',\n",
       "  u'/watch?v=MsvctHab310&index=19&list=PLbzpIznMzZ7MCBvdVht0KVMC7MdnKdbui'),\n",
       " ('\\n      Jane Kyun Log [Full Song] Dil Chahta Hai\\n    ',\n",
       "  u'/watch?v=zz5KauCbjPI&index=20&list=PLbzpIznMzZ7MCBvdVht0KVMC7MdnKdbui'),\n",
       " ('\\n      Luka Chuppi (Full Song)-Rang De Basanti\\n    ',\n",
       "  u'/watch?v=2aDkMDoWvNY&index=21&list=PLbzpIznMzZ7MCBvdVht0KVMC7MdnKdbui'),\n",
       " ('\\n      Abhi Mujh Mein Kahin- Agneepath (Feat: Pradip Somasundaran)\\n    ',\n",
       "  u'/watch?v=FLdiF-_9-i8&index=22&list=PLbzpIznMzZ7MCBvdVht0KVMC7MdnKdbui'),\n",
       " ('\\n      Bhaag Milkha Bhaag - Farhan Akhtar | Zinda Lyric\\n    ',\n",
       "  u'/watch?v=Ax0G_P2dSBw&index=23&list=PLbzpIznMzZ7MCBvdVht0KVMC7MdnKdbui'),\n",
       " ('\\n      Kal Ho Naa Ho - Title Track Video | Shahrukh Khan, Saif, Preity\\n    ',\n",
       "  u'/watch?v=g0eO74UmRBs&index=24&list=PLbzpIznMzZ7MCBvdVht0KVMC7MdnKdbui'),\n",
       " ('\\n      \"Milne Hai Mujhse Aayi Aashiqui 2\" Full Video Song | Aditya Roy Kapur, Shraddha Kapoor\\n    ',\n",
       "  u'/watch?v=GtPvCa3vvxA&index=25&list=PLbzpIznMzZ7MCBvdVht0KVMC7MdnKdbui'),\n",
       " ('\\n      Kiska Hai Yeh Tumko Intezar\\n    ',\n",
       "  u'/watch?v=l8glZKjB78w&index=26&list=PLbzpIznMzZ7MCBvdVht0KVMC7MdnKdbui'),\n",
       " ('\\n      Har Kisi Ko Nahi Milta Yahan Pyaar Zindagi Mein-Boss FULL HD\\n    ',\n",
       "  u'/watch?v=mDEl6KqcbpY&index=27&list=PLbzpIznMzZ7MCBvdVht0KVMC7MdnKdbui'),\n",
       " ('\\n      Rang De Basanti - Title Track (Full Song) HQ.mp4\\n    ',\n",
       "  u'/watch?v=tf1LzrYMX9k&index=28&list=PLbzpIznMzZ7MCBvdVht0KVMC7MdnKdbui'),\n",
       " (\"\\n      Tere Ho Ke Rahenge    Raja Natwarlal Official Video   ft' Emraan Hashmi, Humaima Malick   HD 1080p\\n    \",\n",
       "  u'/watch?v=7ZLJE7mCnqU&index=29&list=PLbzpIznMzZ7MCBvdVht0KVMC7MdnKdbui'),\n",
       " ('\\n      Dheere Dheere Se Meri Zindagi Video Song (OFFICIAL) Hrithik Roshan, Sonam Kapoor | Yo Yo Honey Singh\\n    ',\n",
       "  u'/watch?v=nCD2hj6zJEc&index=30&list=PLbzpIznMzZ7MCBvdVht0KVMC7MdnKdbui'),\n",
       " ('\\n      Meherbaan Full Video | BANG BANG! | feat Hrithik Roshan & Katrina Kaif | Vishal Shekhar\\n    ',\n",
       "  u'/watch?v=_JND3HuOmDM&index=31&list=PLbzpIznMzZ7MCBvdVht0KVMC7MdnKdbui'),\n",
       " ('\\n      Saiyaara - Full Song | Ek Tha Tiger | Salman Khan | Katrina Kaif\\n    ',\n",
       "  u'/watch?v=A5pSnIwbpaM&index=32&list=PLbzpIznMzZ7MCBvdVht0KVMC7MdnKdbui'),\n",
       " ('\\n      Ilahi Yeh Jawaani Hai Deewani Full Video Song | Ranbir Kapoor, Deepika Padukone\\n    ',\n",
       "  u'/watch?v=fdubeMFwuGs&index=33&list=PLbzpIznMzZ7MCBvdVht0KVMC7MdnKdbui'),\n",
       " ('\\n      Raabta (Kehte Hain Khuda) Full Song With Lyrics | Agent Vinod | Saif Ali Khan, Kareena Kapoor\\n    ',\n",
       "  u'/watch?v=zlt38OOqwDc&index=34&list=PLbzpIznMzZ7MCBvdVht0KVMC7MdnKdbui'),\n",
       " ('\\n      kyun aaj kal neend kam khwaab jyada hai\\n    ',\n",
       "  u'/watch?v=8slG42lLq8U&index=35&list=PLbzpIznMzZ7MCBvdVht0KVMC7MdnKdbui'),\n",
       " ('\\n      Kabhi Kabhi Aditi Zindagi (Full Song) Film  Jaane Tu Ya Jaane Na\\n    ',\n",
       "  u'/watch?v=HIbzXaBdwZw&index=36&list=PLbzpIznMzZ7MCBvdVht0KVMC7MdnKdbui'),\n",
       " ('\\n      Jiya Dhadak Dhadak Jaye - Rahat Fateh Ali Khan (720p Full Wide Screen)\\n    ',\n",
       "  u'/watch?v=OWPR0MRvles&index=37&list=PLbzpIznMzZ7MCBvdVht0KVMC7MdnKdbui'),\n",
       " ('\\n      Shreya Ghoshal *HD* Jaadu Hai Nasha Hai - Jism (16:9)\\n    ',\n",
       "  u'/watch?v=UXY2jR-vGA4&index=38&list=PLbzpIznMzZ7MCBvdVht0KVMC7MdnKdbui'),\n",
       " ('\\n      Bol Na Halke (Original DVD Full Song)\\n    ',\n",
       "  u'/watch?v=neMj84LpIb8&index=39&list=PLbzpIznMzZ7MCBvdVht0KVMC7MdnKdbui'),\n",
       " ('\\n      Atif Aslam - Woh Lamhe Woh Baatein*HD* (16:9)\\n    ',\n",
       "  u'/watch?v=Qju5MTF_-No&index=40&list=PLbzpIznMzZ7MCBvdVht0KVMC7MdnKdbui'),\n",
       " ('\\n      Ya Ali  - Zubeen Garg - Emraan Hashmi -  Kangna Ranaut - Gangster [2006]\\n    ',\n",
       "  u'/watch?v=YEPLHKNrYgw&index=41&list=PLbzpIznMzZ7MCBvdVht0KVMC7MdnKdbui'),\n",
       " ('\\n      Sanam Re | Female Cover by Shirley Setia ft. Kushal Chheda | (Arijit Singh)\\n    ',\n",
       "  u'/watch?v=34_vBu2zVbo&index=42&list=PLbzpIznMzZ7MCBvdVht0KVMC7MdnKdbui'),\n",
       " ('\\n      [Deleted video]\\n    ',\n",
       "  u'/watch?v=aRZghaOlZVE&index=43&list=PLbzpIznMzZ7MCBvdVht0KVMC7MdnKdbui'),\n",
       " ('\\n      Chak De! India [English Translation] Lyrics\\n    ',\n",
       "  u'/watch?v=0zZP12G9JKs&index=44&list=PLbzpIznMzZ7MCBvdVht0KVMC7MdnKdbui'),\n",
       " ('\\n      Dil Se Re Full Video Song | Dil Se | Shahrukh Khan, Manisha Koirala | A R Rahman\\n    ',\n",
       "  u'/watch?v=YwfCMvo19s8&index=45&list=PLbzpIznMzZ7MCBvdVht0KVMC7MdnKdbui'),\n",
       " ('\\n      Behne De : Raavan : AR Rahman\\n    ',\n",
       "  u'/watch?v=LmObAMKUwlQ&index=46&list=PLbzpIznMzZ7MCBvdVht0KVMC7MdnKdbui'),\n",
       " ('\\n      [Deleted video]\\n    ',\n",
       "  u'/watch?v=bLnb0zXeFTY&index=47&list=PLbzpIznMzZ7MCBvdVht0KVMC7MdnKdbui'),\n",
       " ('\\n      Bol Do Na Zara (Azhar) | Female Cover by Shirley Setia ft. Antareep Hazarika, Darrel Mascarenhas\\n    ',\n",
       "  u'/watch?v=csqBMqvW17Y&index=48&list=PLbzpIznMzZ7MCBvdVht0KVMC7MdnKdbui'),\n",
       " ('\\n      Saathiya - Full Title Song | Vivek Oberoi | Rani Mukerji | Sonu Nigam | A. R. Rahman\\n    ',\n",
       "  u'/watch?v=6vMEtXqLh1A&index=49&list=PLbzpIznMzZ7MCBvdVht0KVMC7MdnKdbui'),\n",
       " ('\\n      Haule Haule - Full Song - Rab Ne Bana Di Jodi\\n    ',\n",
       "  u'/watch?v=tPM3pzYOXGY&index=50&list=PLbzpIznMzZ7MCBvdVht0KVMC7MdnKdbui'),\n",
       " ('\\n      Tujh Mein Rab Dikhta Hai - Full Song |  Rab Ne Bana Di Jodi | Shah Rukh Khan | Anushka Sharma\\n    ',\n",
       "  u'/watch?v=MAVzDNc-L4g&index=51&list=PLbzpIznMzZ7MCBvdVht0KVMC7MdnKdbui'),\n",
       " ('\\n      Dard E Disco Full Video HD Song | Om Shanti Om | ShahRukh Khan\\n    ',\n",
       "  u'/watch?v=cKs83ZQxYKA&index=52&list=PLbzpIznMzZ7MCBvdVht0KVMC7MdnKdbui'),\n",
       " ('\\n      Chand Sifarish - Fanaa HD Full Song\\n    ',\n",
       "  u'/watch?v=GETO261FCZc&index=53&list=PLbzpIznMzZ7MCBvdVht0KVMC7MdnKdbui'),\n",
       " ('\\n      Woh Ladki Hai Kahan - Dil Chahta Hai 1080p\\n    ',\n",
       "  u'/watch?v=NLRqsIpsku4&index=54&list=PLbzpIznMzZ7MCBvdVht0KVMC7MdnKdbui'),\n",
       " ('\\n      Main Sharabi (Official Full Video) Cocktail (HD) - Yo Yo Honey Singh.mp4\\n    ',\n",
       "  u'/watch?v=hV8l59pxfho&index=55&list=PLbzpIznMzZ7MCBvdVht0KVMC7MdnKdbui'),\n",
       " ('\\n      Saathiya - O Humdum Suniyo Re\\n    ',\n",
       "  u'/watch?v=kA4D3RMiwkg&index=56&list=PLbzpIznMzZ7MCBvdVht0KVMC7MdnKdbui'),\n",
       " ('\\n      Ye Dooriyan -  complete movie, in a single song.\\n    ',\n",
       "  u'/watch?v=DKOLynNhWxo&index=57&list=PLbzpIznMzZ7MCBvdVht0KVMC7MdnKdbui'),\n",
       " ('\\n      Agar Tum Saath Ho FULL AUDIO Song | Tamasha | Ranbir Kapoor, Deepika Padukone | T-Series\\n    ',\n",
       "  u'/watch?v=sK7riqg2mr4&index=58&list=PLbzpIznMzZ7MCBvdVht0KVMC7MdnKdbui'),\n",
       " ('\\n      Aahista Aahista - Song - Bachna Ae Haseeno\\n    ',\n",
       "  u'/watch?v=xIa5ySZmAl4&index=59&list=PLbzpIznMzZ7MCBvdVht0KVMC7MdnKdbui'),\n",
       " ('\\n      Daru Desi (Full Video Song) | Cocktail | Saif Ali Khan, Deepika Padukone & Diana Penty\\n    ',\n",
       "  u'/watch?v=3nA1hmKCRpE&index=60&list=PLbzpIznMzZ7MCBvdVht0KVMC7MdnKdbui'),\n",
       " ('\\n      Main Hoon Na [Full Song] Main Hoon Na\\n    ',\n",
       "  u'/watch?v=OODnET06c-Y&index=61&list=PLbzpIznMzZ7MCBvdVht0KVMC7MdnKdbui'),\n",
       " ('\\n      My Dil Goes Mmmm - Full Song | Salaam Namaste | Saif Ali Khan | Preity Zinta\\n    ',\n",
       "  u'/watch?v=PgtXUe_942k&index=62&list=PLbzpIznMzZ7MCBvdVht0KVMC7MdnKdbui'),\n",
       " ('\\n      Sab Tera / Soch Na Sake MASHUP | Shirley Setia ft. Arvind, Darrel, Vishal | Baaghi | Airlift\\n    ',\n",
       "  u'/watch?v=iFcP3hXxTgY&index=63&list=PLbzpIznMzZ7MCBvdVht0KVMC7MdnKdbui'),\n",
       " ('\\n      Masakali [Full Song] - Delhi 6\\n    ',\n",
       "  u'/watch?v=SS3lIQdKP-A&index=64&list=PLbzpIznMzZ7MCBvdVht0KVMC7MdnKdbui'),\n",
       " ('\\n      Chor Bazari .....Blue ray rip (HQ video)\\n    ',\n",
       "  u'/watch?v=Plj9NiTG-dE&index=65&list=PLbzpIznMzZ7MCBvdVht0KVMC7MdnKdbui'),\n",
       " ('\\n      Iqbal - Aashayein\\n    ',\n",
       "  u'/watch?v=RdBXQlY7FsE&index=66&list=PLbzpIznMzZ7MCBvdVht0KVMC7MdnKdbui'),\n",
       " ('\\n      Ae Dil Hai Mushkil I Official Lyric Video I Karan Johar | Aishwarya, Ranbir, Anushka | Pritam\\n    ',\n",
       "  u'/watch?v=NY2gKc17YwI&index=67&list=PLbzpIznMzZ7MCBvdVht0KVMC7MdnKdbui'),\n",
       " ('\\n      Rock On Title Video Song | Arjun Rampal, Farhan Akhtar, Prachi Desai, Purab Kohli, Koel Puri\\n    ',\n",
       "  u'/watch?v=EOyyVT31cCM&index=68&list=PLbzpIznMzZ7MCBvdVht0KVMC7MdnKdbui'),\n",
       " ('\\n      Khalbali - Rang De Basanti | Aamir Khan | A.R. Rahman\\n    ',\n",
       "  u'/watch?v=hnswwRWLi3E&index=69&list=PLbzpIznMzZ7MCBvdVht0KVMC7MdnKdbui'),\n",
       " ('\\n      Gal Mitthi Mitthi - Aisha | Sonam Kapoor | Abhay Deol | Lisa Haydon\\n    ',\n",
       "  u'/watch?v=ZHsKQ_R0ZqI&index=70&list=PLbzpIznMzZ7MCBvdVht0KVMC7MdnKdbui'),\n",
       " ('\\n      Tera Hone Laga Hoon - Bollywood Sing Along - Ajab Prem Ki Ghazab Kahani - Atif Aslam & Alisha Chinai\\n    ',\n",
       "  u'/watch?v=rTuxUAuJRyY&index=71&list=PLbzpIznMzZ7MCBvdVht0KVMC7MdnKdbui'),\n",
       " ('\\n      Ishq Wala Love - SOTY | Alia Bhatt | Sidharth Malhotra | Varun Dhawan\\n    ',\n",
       "  u'/watch?v=VmH8tELQ3aE&index=72&list=PLbzpIznMzZ7MCBvdVht0KVMC7MdnKdbui'),\n",
       " ('\\n      Nashe Si Chadh Gayi Song | Befikre | Ranveer Singh | Vaani Kapoor | Arijit Singh\\n    ',\n",
       "  u'/watch?v=Wd2B8OAotU8&index=73&list=PLbzpIznMzZ7MCBvdVht0KVMC7MdnKdbui'),\n",
       " ('\\n      Ude Dil Befikre Song | Befikre Title Song | Ranveer Singh | Vaani Kapoor | Benny Dayal\\n    ',\n",
       "  u'/watch?v=wzY8Bzz9FS4&index=74&list=PLbzpIznMzZ7MCBvdVht0KVMC7MdnKdbui'),\n",
       " ('\\n      The Humma Song \\xe2\\x80\\x93 OK Jaanu | Shraddha Kapoor | Aditya Roy Kapur | A.R. Rahman, Badshah, Tanishk\\n    ',\n",
       "  u'/watch?v=1tVL11ULjYY&index=75&list=PLbzpIznMzZ7MCBvdVht0KVMC7MdnKdbui'),\n",
       " ('\\n      Dangal - Title Track | Full Audio | Dangal | Aamir Khan | Pritam | Amitabh B | Daler Mehndi\\n    ',\n",
       "  u'/watch?v=y60avV4uiPM&index=76&list=PLbzpIznMzZ7MCBvdVht0KVMC7MdnKdbui'),\n",
       " ('\\n      Bulleya - Lyric Video | Ae Dil Hai Mushkil | Ranbir | Aishwarya\\n    ',\n",
       "  u'/watch?v=sntrCk3Ym-Q&index=77&list=PLbzpIznMzZ7MCBvdVht0KVMC7MdnKdbui')]"
      ]
     },
     "execution_count": 17,
     "metadata": {},
     "output_type": "execute_result"
    }
   ],
   "source": [
    "songs"
   ]
  },
  {
   "cell_type": "code",
   "execution_count": 19,
   "metadata": {
    "collapsed": false
   },
   "outputs": [],
   "source": [
    "song = songs[-2]"
   ]
  },
  {
   "cell_type": "code",
   "execution_count": 21,
   "metadata": {
    "collapsed": false
   },
   "outputs": [
    {
     "name": "stdout",
     "output_type": "stream",
     "text": [
      "Downloading:  Dangal - Title Track | Full Audio | Dangal | Aamir Khan | Pritam | Amitabh B | Daler Mehndi\n"
     ]
    }
   ],
   "source": [
    "name = song[0]\n",
    "name = name.strip()\n",
    "\n",
    "video_link = song[1]\n",
    "video_link = str(video_link.strip())\n",
    "video_link=video_link.split('&')\n",
    "song_link = video_link[0]\n",
    "\n",
    "song_id = song_link.split('=')[1]\n",
    "\n",
    "full_name = name+extn\n",
    "full_name_simplified = \" \".join(re.findall(\"[a-zA-Z0-9]+\", full_name))\n",
    "\n",
    "full_name_with_id = name + '-' + song_id + extn\n",
    "full_name_with_id_simplified = \" \".join(re.findall(\"[a-zA-Z0-9]+\", full_name_with_id))\n",
    "\n",
    "if((full_name_simplified in file_names) or (full_name_with_id_simplified in file_names)):\n",
    "    print \"Has been downloaded previously: \", name\n",
    "else:\n",
    "    print \"Downloading: \", name   \n",
    "\n",
    "\n",
    "command_tokens.append('https://www.youtube.com' + song_link)\n",
    "command = ' '.join(command_tokens)"
   ]
  },
  {
   "cell_type": "code",
   "execution_count": 22,
   "metadata": {
    "collapsed": false
   },
   "outputs": [
    {
     "name": "stdout",
     "output_type": "stream",
     "text": [
      "0\n"
     ]
    }
   ],
   "source": [
    "print os.system(command)"
   ]
  },
  {
   "cell_type": "code",
   "execution_count": null,
   "metadata": {
    "collapsed": true
   },
   "outputs": [],
   "source": []
  }
 ],
 "metadata": {
  "kernelspec": {
   "display_name": "Python 2",
   "language": "python",
   "name": "python2"
  },
  "language_info": {
   "codemirror_mode": {
    "name": "ipython",
    "version": 2
   },
   "file_extension": ".py",
   "mimetype": "text/x-python",
   "name": "python",
   "nbconvert_exporter": "python",
   "pygments_lexer": "ipython2",
   "version": "2.7.11"
  }
 },
 "nbformat": 4,
 "nbformat_minor": 0
}
