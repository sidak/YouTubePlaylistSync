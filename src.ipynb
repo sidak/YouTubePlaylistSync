{
 "cells": [
  {
   "cell_type": "code",
   "execution_count": 1,
   "metadata": {
    "collapsed": true
   },
   "outputs": [],
   "source": [
    "from bs4 import BeautifulSoup"
   ]
  },
  {
   "cell_type": "code",
   "execution_count": 2,
   "metadata": {
    "collapsed": true
   },
   "outputs": [],
   "source": [
    "import requests\n",
    "import os\n",
    "import re"
   ]
  },
  {
   "cell_type": "code",
   "execution_count": 3,
   "metadata": {
    "collapsed": true
   },
   "outputs": [],
   "source": [
    "url = \"https://www.youtube.com/playlist?list=PLbzpIznMzZ7MCBvdVht0KVMC7MdnKdbui\""
   ]
  },
  {
   "cell_type": "code",
   "execution_count": 9,
   "metadata": {
    "collapsed": false,
    "scrolled": true
   },
   "outputs": [],
   "source": [
    "soup = BeautifulSoup(html, 'html.parser')"
   ]
  },
  {
   "cell_type": "code",
   "execution_count": 6,
   "metadata": {
    "collapsed": true
   },
   "outputs": [],
   "source": [
    "def makeRequest(url, hdr):\n",
    "    http_proxy  = os.environ.get(\"HTTP_PROXY\")\n",
    "    https_proxy = os.environ.get(\"HTTPS_PROXY\")\n",
    "    ftp_proxy   = os.environ.get(\"FTP_PROXY\")\n",
    "\n",
    "    proxyDict = { \n",
    "        \"http\"  : http_proxy,\n",
    "        \"https\" : https_proxy,\n",
    "        \"ftp\"   : ftp_proxy\n",
    "        }\n",
    "\n",
    "    req = requests.get(url, headers=hdr, proxies=proxyDict)\n",
    "    return req\n"
   ]
  },
  {
   "cell_type": "code",
   "execution_count": 7,
   "metadata": {
    "collapsed": false
   },
   "outputs": [],
   "source": [
    "response = makeRequest(url, {})"
   ]
  },
  {
   "cell_type": "code",
   "execution_count": 8,
   "metadata": {
    "collapsed": false
   },
   "outputs": [],
   "source": [
    "html = response.content"
   ]
  },
  {
   "cell_type": "code",
   "execution_count": 10,
   "metadata": {
    "collapsed": true
   },
   "outputs": [],
   "source": [
    "pattern = re.compile(r'/watch\\?v=')"
   ]
  },
  {
   "cell_type": "code",
   "execution_count": 11,
   "metadata": {
    "collapsed": true
   },
   "outputs": [],
   "source": [
    "found = soup.find_all('a', 'yt-uix-tile-link', href=pattern)\n"
   ]
  },
  {
   "cell_type": "code",
   "execution_count": 12,
   "metadata": {
    "collapsed": false
   },
   "outputs": [],
   "source": [
    "songs=[(x.text.encode('utf-8'), x.get('href')) for x in found]\n"
   ]
  },
  {
   "cell_type": "code",
   "execution_count": 147,
   "metadata": {
    "collapsed": false
   },
   "outputs": [],
   "source": [
    "name = songs[2][0]"
   ]
  },
  {
   "cell_type": "code",
   "execution_count": 148,
   "metadata": {
    "collapsed": false
   },
   "outputs": [],
   "source": [
    "name = name.strip()"
   ]
  },
  {
   "cell_type": "code",
   "execution_count": 149,
   "metadata": {
    "collapsed": true
   },
   "outputs": [],
   "source": [
    "extn = \".mp3\""
   ]
  },
  {
   "cell_type": "code",
   "execution_count": 150,
   "metadata": {
    "collapsed": true
   },
   "outputs": [],
   "source": [
    "full_name = name+extn"
   ]
  },
  {
   "cell_type": "code",
   "execution_count": 151,
   "metadata": {
    "collapsed": false
   },
   "outputs": [
    {
     "data": {
      "text/plain": [
       "'Khamoshiyan - Title Song | Ali Fazal | Sapna Pabbi | Gurmeet Choudhary | Arijit Singh.mp3'"
      ]
     },
     "execution_count": 151,
     "metadata": {},
     "output_type": "execute_result"
    }
   ],
   "source": [
    "full_name"
   ]
  },
  {
   "cell_type": "code",
   "execution_count": 18,
   "metadata": {
    "collapsed": false
   },
   "outputs": [
    {
     "data": {
      "text/plain": [
       "'/home/sidak/Documents/Projects/YouTube Playlist Sync'"
      ]
     },
     "execution_count": 18,
     "metadata": {},
     "output_type": "execute_result"
    }
   ],
   "source": [
    "os.getcwd()"
   ]
  },
  {
   "cell_type": "code",
   "execution_count": 83,
   "metadata": {
    "collapsed": false
   },
   "outputs": [
    {
     "data": {
      "text/plain": [
       "False"
      ]
     },
     "execution_count": 83,
     "metadata": {},
     "output_type": "execute_result"
    }
   ],
   "source": [
    "os.path.isfile(full_name)"
   ]
  },
  {
   "cell_type": "code",
   "execution_count": 19,
   "metadata": {
    "collapsed": false
   },
   "outputs": [
    {
     "data": {
      "text/plain": [
       "[('\\n      Dil Ko Aaya Sukoon|Rangrezz| Rahat Fateh Ali Khan & Hiral Brahmbhatt\\n    ',\n",
       "  u'/watch?v=RwJmfMPlXaU&list=PLbzpIznMzZ7MCBvdVht0KVMC7MdnKdbui&index=1'),\n",
       " ('\\n      Anwar - Maula Mere Maula Aankhein Teri Kitni Haseen Ke Inka Aashique - RoopKumar Rathod\\n    ',\n",
       "  u'/watch?v=UvAPcNPXVDQ&list=PLbzpIznMzZ7MCBvdVht0KVMC7MdnKdbui&index=2'),\n",
       " ('\\n      Khamoshiyan - Title Song | Ali Fazal | Sapna Pabbi | Gurmeet Choudhary | Arijit Singh\\n    ',\n",
       "  u'/watch?v=Mv3SZDP7QUo&list=PLbzpIznMzZ7MCBvdVht0KVMC7MdnKdbui&index=3'),\n",
       " ('\\n      Mere Haath Mein - Full Song | Fanaa | Aamir Khan | Kajol\\n    ',\n",
       "  u'/watch?v=5n4-une1aPQ&list=PLbzpIznMzZ7MCBvdVht0KVMC7MdnKdbui&index=4'),\n",
       " ('\\n      \"Piya Aaye Na\" Aashiqui 2 Full Song with Lyrics | Aditya Roy Kapur, Shraddha Kapoor\\n    ',\n",
       "  u'/watch?v=2bMEe0UYa8E&list=PLbzpIznMzZ7MCBvdVht0KVMC7MdnKdbui&index=5'),\n",
       " ('\\n      Kabhi Jo Baadal Barse - Jackpot\\n    ',\n",
       "  u'/watch?v=2OTABRUzyFQ&list=PLbzpIznMzZ7MCBvdVht0KVMC7MdnKdbui&index=6'),\n",
       " ('\\n      [Deleted video]\\n    ',\n",
       "  u'/watch?v=8gc4U6L2hZM&list=PLbzpIznMzZ7MCBvdVht0KVMC7MdnKdbui&index=7'),\n",
       " ('\\n      Jeena Jeena (Audio Song) | Badlapur | Varun Dhawan, Yami Gautam & Nawazuddin Siddiqui\\n    ',\n",
       "  u'/watch?v=zFdi834FiZ4&list=PLbzpIznMzZ7MCBvdVht0KVMC7MdnKdbui&index=8'),\n",
       " ('\\n      Bhula Dena Mujhe - Aashiqui 2 1080p\\n    ',\n",
       "  u'/watch?v=yAEEqncV3f4&list=PLbzpIznMzZ7MCBvdVht0KVMC7MdnKdbui&index=9'),\n",
       " ('\\n      teri yaad- Adnan sami\\n    ',\n",
       "  u'/watch?v=y4nIGzoh7ZM&list=PLbzpIznMzZ7MCBvdVht0KVMC7MdnKdbui&index=10'),\n",
       " ('\\n      naina lagiyan baarishan HQ Ajana anjani\\n    ',\n",
       "  u'/watch?v=kEBriX5OOJI&list=PLbzpIznMzZ7MCBvdVht0KVMC7MdnKdbui&index=11'),\n",
       " ('\\n      [Deleted video]\\n    ',\n",
       "  u'/watch?v=cOLvi3uEhfE&list=PLbzpIznMzZ7MCBvdVht0KVMC7MdnKdbui&index=12'),\n",
       " ('\\n      Hangover - Kick (Salman Khan) | Female Cover by Shirley Setia ft. Arjun Bhat\\n    ',\n",
       "  u'/watch?v=u-gUic2zV_8&list=PLbzpIznMzZ7MCBvdVht0KVMC7MdnKdbui&index=13'),\n",
       " ('\\n      Tu Zaroori - Zid | Female Cover by Shirley Setia ft. Arjun Bhat | (Sunidhi Chauhan, Sharib - Toshi)\\n    ',\n",
       "  u'/watch?v=U2EiAOr_Rcw&list=PLbzpIznMzZ7MCBvdVht0KVMC7MdnKdbui&index=14'),\n",
       " ('\\n      \"Jai Ho\" Slumdog Millionaire OST (Full song)\\n    ',\n",
       "  u'/watch?v=UxLSZoFK8EM&list=PLbzpIznMzZ7MCBvdVht0KVMC7MdnKdbui&index=15'),\n",
       " ('\\n      Teri Baari Hai Full Video | MARY KOM | Priyanka Chopra | Mohit Chauhan | HD\\n    ',\n",
       "  u'/watch?v=858lvkopFOw&list=PLbzpIznMzZ7MCBvdVht0KVMC7MdnKdbui&index=16'),\n",
       " (\"\\n      'Tu Hai Ki Nahi' Video Song | Roy | Ankit Tiwari | Ranbir Kapoor, Jacqueline Fernandez, Tseries\\n    \",\n",
       "  u'/watch?v=zmotgOJDKXk&list=PLbzpIznMzZ7MCBvdVht0KVMC7MdnKdbui&index=17'),\n",
       " ('\\n      Sooraj Dooba Hain Video Song | Roy | Arijit singh|Ranbir Kapoor | Arjun Rampal | Jacqueline\\n    ',\n",
       "  u'/watch?v=bVl3om0-GFE&list=PLbzpIznMzZ7MCBvdVht0KVMC7MdnKdbui&index=18'),\n",
       " ('\\n      Rang De Basanti- Robaroo [A R Rahman &  Naresh Iyer]\\n    ',\n",
       "  u'/watch?v=MsvctHab310&list=PLbzpIznMzZ7MCBvdVht0KVMC7MdnKdbui&index=19'),\n",
       " ('\\n      Jane Kyun Log [Full Song] Dil Chahta Hai\\n    ',\n",
       "  u'/watch?v=zz5KauCbjPI&list=PLbzpIznMzZ7MCBvdVht0KVMC7MdnKdbui&index=20'),\n",
       " ('\\n      Luka Chuppi (Full Song)-Rang De Basanti\\n    ',\n",
       "  u'/watch?v=2aDkMDoWvNY&list=PLbzpIznMzZ7MCBvdVht0KVMC7MdnKdbui&index=21'),\n",
       " ('\\n      Abhi Mujh Mein Kahin- Agneepath (Feat: Pradip Somasundaran)\\n    ',\n",
       "  u'/watch?v=FLdiF-_9-i8&list=PLbzpIznMzZ7MCBvdVht0KVMC7MdnKdbui&index=22'),\n",
       " ('\\n      Bhaag Milkha Bhaag - Farhan Akhtar | Zinda Lyric\\n    ',\n",
       "  u'/watch?v=Ax0G_P2dSBw&list=PLbzpIznMzZ7MCBvdVht0KVMC7MdnKdbui&index=23'),\n",
       " ('\\n      Kal Ho Naa Ho - Title Track Video | Shahrukh Khan, Saif, Preity\\n    ',\n",
       "  u'/watch?v=g0eO74UmRBs&list=PLbzpIznMzZ7MCBvdVht0KVMC7MdnKdbui&index=24'),\n",
       " ('\\n      \"Milne Hai Mujhse Aayi Aashiqui 2\" Full Video Song | Aditya Roy Kapur, Shraddha Kapoor\\n    ',\n",
       "  u'/watch?v=GtPvCa3vvxA&list=PLbzpIznMzZ7MCBvdVht0KVMC7MdnKdbui&index=25'),\n",
       " ('\\n      Kiska Hai Yeh Tumko Intezar\\n    ',\n",
       "  u'/watch?v=l8glZKjB78w&list=PLbzpIznMzZ7MCBvdVht0KVMC7MdnKdbui&index=26'),\n",
       " ('\\n      Har Kisi Ko Nahi Milta Yahan Pyaar Zindagi Mein-Boss FULL HD\\n    ',\n",
       "  u'/watch?v=mDEl6KqcbpY&list=PLbzpIznMzZ7MCBvdVht0KVMC7MdnKdbui&index=27'),\n",
       " ('\\n      Rang De Basanti - Title Track (Full Song) HQ.mp4\\n    ',\n",
       "  u'/watch?v=tf1LzrYMX9k&list=PLbzpIznMzZ7MCBvdVht0KVMC7MdnKdbui&index=28'),\n",
       " (\"\\n      Tere Ho Ke Rahenge    Raja Natwarlal Official Video   ft' Emraan Hashmi, Humaima Malick   HD 1080p\\n    \",\n",
       "  u'/watch?v=7ZLJE7mCnqU&list=PLbzpIznMzZ7MCBvdVht0KVMC7MdnKdbui&index=29'),\n",
       " ('\\n      Dheere Dheere Se Meri Zindagi Video Song (OFFICIAL) Hrithik Roshan, Sonam Kapoor | Yo Yo Honey Singh\\n    ',\n",
       "  u'/watch?v=nCD2hj6zJEc&list=PLbzpIznMzZ7MCBvdVht0KVMC7MdnKdbui&index=30'),\n",
       " ('\\n      Meherbaan Full Video | BANG BANG! | feat Hrithik Roshan & Katrina Kaif | Vishal Shekhar\\n    ',\n",
       "  u'/watch?v=_JND3HuOmDM&list=PLbzpIznMzZ7MCBvdVht0KVMC7MdnKdbui&index=31'),\n",
       " ('\\n      Saiyaara - Full Song | Ek Tha Tiger | Salman Khan | Katrina Kaif\\n    ',\n",
       "  u'/watch?v=A5pSnIwbpaM&list=PLbzpIznMzZ7MCBvdVht0KVMC7MdnKdbui&index=32'),\n",
       " ('\\n      Ilahi Yeh Jawaani Hai Deewani Full Video Song | Ranbir Kapoor, Deepika Padukone\\n    ',\n",
       "  u'/watch?v=fdubeMFwuGs&list=PLbzpIznMzZ7MCBvdVht0KVMC7MdnKdbui&index=33'),\n",
       " ('\\n      Raabta (Kehte Hain Khuda) Full Song With Lyrics | Agent Vinod | Saif Ali Khan, Kareena Kapoor\\n    ',\n",
       "  u'/watch?v=zlt38OOqwDc&list=PLbzpIznMzZ7MCBvdVht0KVMC7MdnKdbui&index=34'),\n",
       " ('\\n      kyun aaj kal neend kam khwaab jyada hai\\n    ',\n",
       "  u'/watch?v=8slG42lLq8U&list=PLbzpIznMzZ7MCBvdVht0KVMC7MdnKdbui&index=35'),\n",
       " ('\\n      Kabhi Kabhi Aditi Zindagi (Full Song) Film  Jaane Tu Ya Jaane Na\\n    ',\n",
       "  u'/watch?v=HIbzXaBdwZw&list=PLbzpIznMzZ7MCBvdVht0KVMC7MdnKdbui&index=36'),\n",
       " ('\\n      Jiya Dhadak Dhadak Jaye - Rahat Fateh Ali Khan (720p Full Wide Screen)\\n    ',\n",
       "  u'/watch?v=OWPR0MRvles&list=PLbzpIznMzZ7MCBvdVht0KVMC7MdnKdbui&index=37'),\n",
       " ('\\n      Shreya Ghoshal *HD* Jaadu Hai Nasha Hai - Jism (16:9)\\n    ',\n",
       "  u'/watch?v=UXY2jR-vGA4&list=PLbzpIznMzZ7MCBvdVht0KVMC7MdnKdbui&index=38'),\n",
       " ('\\n      Bol Na Halke (Original DVD Full Song)\\n    ',\n",
       "  u'/watch?v=neMj84LpIb8&list=PLbzpIznMzZ7MCBvdVht0KVMC7MdnKdbui&index=39'),\n",
       " ('\\n      Atif Aslam - Woh Lamhe Woh Baatein*HD* (16:9)\\n    ',\n",
       "  u'/watch?v=Qju5MTF_-No&list=PLbzpIznMzZ7MCBvdVht0KVMC7MdnKdbui&index=40'),\n",
       " ('\\n      Ya Ali  - Zubeen Garg - Emraan Hashmi -  Kangna Ranaut - Gangster [2006]\\n    ',\n",
       "  u'/watch?v=YEPLHKNrYgw&list=PLbzpIznMzZ7MCBvdVht0KVMC7MdnKdbui&index=41'),\n",
       " ('\\n      Sanam Re | Female Cover by Shirley Setia ft. Kushal Chheda | (Arijit Singh)\\n    ',\n",
       "  u'/watch?v=34_vBu2zVbo&list=PLbzpIznMzZ7MCBvdVht0KVMC7MdnKdbui&index=42'),\n",
       " ('\\n      [Deleted video]\\n    ',\n",
       "  u'/watch?v=aRZghaOlZVE&list=PLbzpIznMzZ7MCBvdVht0KVMC7MdnKdbui&index=43'),\n",
       " ('\\n      Chak De! India [English Translation] Lyrics\\n    ',\n",
       "  u'/watch?v=0zZP12G9JKs&list=PLbzpIznMzZ7MCBvdVht0KVMC7MdnKdbui&index=44'),\n",
       " ('\\n      Dil Se Re Full Video Song | Dil Se | Shahrukh Khan, Manisha Koirala | A R Rahman\\n    ',\n",
       "  u'/watch?v=YwfCMvo19s8&list=PLbzpIznMzZ7MCBvdVht0KVMC7MdnKdbui&index=45'),\n",
       " ('\\n      Behne De : Raavan : AR Rahman\\n    ',\n",
       "  u'/watch?v=LmObAMKUwlQ&list=PLbzpIznMzZ7MCBvdVht0KVMC7MdnKdbui&index=46'),\n",
       " ('\\n      [Deleted video]\\n    ',\n",
       "  u'/watch?v=bLnb0zXeFTY&list=PLbzpIznMzZ7MCBvdVht0KVMC7MdnKdbui&index=47'),\n",
       " ('\\n      Bol Do Na Zara (Azhar) | Female Cover by Shirley Setia ft. Antareep Hazarika, Darrel Mascarenhas\\n    ',\n",
       "  u'/watch?v=csqBMqvW17Y&list=PLbzpIznMzZ7MCBvdVht0KVMC7MdnKdbui&index=48'),\n",
       " ('\\n      Saathiya - Full Title Song | Vivek Oberoi | Rani Mukerji | Sonu Nigam | A. R. Rahman\\n    ',\n",
       "  u'/watch?v=6vMEtXqLh1A&list=PLbzpIznMzZ7MCBvdVht0KVMC7MdnKdbui&index=49'),\n",
       " ('\\n      Haule Haule - Full Song - Rab Ne Bana Di Jodi\\n    ',\n",
       "  u'/watch?v=tPM3pzYOXGY&list=PLbzpIznMzZ7MCBvdVht0KVMC7MdnKdbui&index=50'),\n",
       " ('\\n      Tujh Mein Rab Dikhta Hai - Full Song |  Rab Ne Bana Di Jodi | Shah Rukh Khan | Anushka Sharma\\n    ',\n",
       "  u'/watch?v=MAVzDNc-L4g&list=PLbzpIznMzZ7MCBvdVht0KVMC7MdnKdbui&index=51'),\n",
       " ('\\n      Dard E Disco Full Video HD Song | Om Shanti Om | ShahRukh Khan\\n    ',\n",
       "  u'/watch?v=cKs83ZQxYKA&list=PLbzpIznMzZ7MCBvdVht0KVMC7MdnKdbui&index=52'),\n",
       " ('\\n      Chand Sifarish - Fanaa HD Full Song\\n    ',\n",
       "  u'/watch?v=GETO261FCZc&list=PLbzpIznMzZ7MCBvdVht0KVMC7MdnKdbui&index=53'),\n",
       " ('\\n      Woh Ladki Hai Kahan - Dil Chahta Hai 1080p\\n    ',\n",
       "  u'/watch?v=NLRqsIpsku4&list=PLbzpIznMzZ7MCBvdVht0KVMC7MdnKdbui&index=54'),\n",
       " ('\\n      Main Sharabi (Official Full Video) Cocktail (HD) - Yo Yo Honey Singh.mp4\\n    ',\n",
       "  u'/watch?v=hV8l59pxfho&list=PLbzpIznMzZ7MCBvdVht0KVMC7MdnKdbui&index=55'),\n",
       " ('\\n      Saathiya - O Humdum Suniyo Re\\n    ',\n",
       "  u'/watch?v=kA4D3RMiwkg&list=PLbzpIznMzZ7MCBvdVht0KVMC7MdnKdbui&index=56'),\n",
       " ('\\n      Ye Dooriyan -  complete movie, in a single song.\\n    ',\n",
       "  u'/watch?v=DKOLynNhWxo&list=PLbzpIznMzZ7MCBvdVht0KVMC7MdnKdbui&index=57'),\n",
       " ('\\n      Agar Tum Saath Ho FULL AUDIO Song | Tamasha | Ranbir Kapoor, Deepika Padukone | T-Series\\n    ',\n",
       "  u'/watch?v=sK7riqg2mr4&list=PLbzpIznMzZ7MCBvdVht0KVMC7MdnKdbui&index=58'),\n",
       " ('\\n      Aahista Aahista - Song - Bachna Ae Haseeno\\n    ',\n",
       "  u'/watch?v=xIa5ySZmAl4&list=PLbzpIznMzZ7MCBvdVht0KVMC7MdnKdbui&index=59'),\n",
       " ('\\n      Daru Desi (Full Video Song) | Cocktail | Saif Ali Khan, Deepika Padukone & Diana Penty\\n    ',\n",
       "  u'/watch?v=3nA1hmKCRpE&list=PLbzpIznMzZ7MCBvdVht0KVMC7MdnKdbui&index=60'),\n",
       " ('\\n      Main Hoon Na [Full Song] Main Hoon Na\\n    ',\n",
       "  u'/watch?v=OODnET06c-Y&list=PLbzpIznMzZ7MCBvdVht0KVMC7MdnKdbui&index=61'),\n",
       " ('\\n      My Dil Goes Mmmm - Full Song | Salaam Namaste | Saif Ali Khan | Preity Zinta\\n    ',\n",
       "  u'/watch?v=PgtXUe_942k&list=PLbzpIznMzZ7MCBvdVht0KVMC7MdnKdbui&index=62'),\n",
       " ('\\n      Sab Tera / Soch Na Sake MASHUP | Shirley Setia ft. Arvind, Darrel, Vishal | Baaghi | Airlift\\n    ',\n",
       "  u'/watch?v=iFcP3hXxTgY&list=PLbzpIznMzZ7MCBvdVht0KVMC7MdnKdbui&index=63'),\n",
       " ('\\n      Masakali [Full Song] - Delhi 6\\n    ',\n",
       "  u'/watch?v=SS3lIQdKP-A&list=PLbzpIznMzZ7MCBvdVht0KVMC7MdnKdbui&index=64'),\n",
       " ('\\n      Chor Bazari .....Blue ray rip (HQ video)\\n    ',\n",
       "  u'/watch?v=Plj9NiTG-dE&list=PLbzpIznMzZ7MCBvdVht0KVMC7MdnKdbui&index=65'),\n",
       " ('\\n      Iqbal - Aashayein\\n    ',\n",
       "  u'/watch?v=RdBXQlY7FsE&list=PLbzpIznMzZ7MCBvdVht0KVMC7MdnKdbui&index=66'),\n",
       " ('\\n      Ae Dil Hai Mushkil I Official Lyric Video I Karan Johar | Aishwarya, Ranbir, Anushka | Pritam\\n    ',\n",
       "  u'/watch?v=NY2gKc17YwI&list=PLbzpIznMzZ7MCBvdVht0KVMC7MdnKdbui&index=67'),\n",
       " ('\\n      Rock On Title Video Song | Arjun Rampal, Farhan Akhtar, Prachi Desai, Purab Kohli, Koel Puri\\n    ',\n",
       "  u'/watch?v=EOyyVT31cCM&list=PLbzpIznMzZ7MCBvdVht0KVMC7MdnKdbui&index=68'),\n",
       " ('\\n      Khalbali - Rang De Basanti | Aamir Khan | A.R. Rahman\\n    ',\n",
       "  u'/watch?v=hnswwRWLi3E&list=PLbzpIznMzZ7MCBvdVht0KVMC7MdnKdbui&index=69'),\n",
       " ('\\n      Gal Mitthi Mitthi - Aisha | Sonam Kapoor | Abhay Deol | Lisa Haydon\\n    ',\n",
       "  u'/watch?v=ZHsKQ_R0ZqI&list=PLbzpIznMzZ7MCBvdVht0KVMC7MdnKdbui&index=70'),\n",
       " ('\\n      Tera Hone Laga Hoon - Bollywood Sing Along - Ajab Prem Ki Ghazab Kahani - Atif Aslam & Alisha Chinai\\n    ',\n",
       "  u'/watch?v=rTuxUAuJRyY&list=PLbzpIznMzZ7MCBvdVht0KVMC7MdnKdbui&index=71'),\n",
       " ('\\n      Ishq Wala Love - SOTY | Alia Bhatt | Sidharth Malhotra | Varun Dhawan\\n    ',\n",
       "  u'/watch?v=VmH8tELQ3aE&list=PLbzpIznMzZ7MCBvdVht0KVMC7MdnKdbui&index=72'),\n",
       " ('\\n      Nashe Si Chadh Gayi Song | Befikre | Ranveer Singh | Vaani Kapoor | Arijit Singh\\n    ',\n",
       "  u'/watch?v=Wd2B8OAotU8&list=PLbzpIznMzZ7MCBvdVht0KVMC7MdnKdbui&index=73'),\n",
       " ('\\n      Ude Dil Befikre Song | Befikre Title Song | Ranveer Singh | Vaani Kapoor | Benny Dayal\\n    ',\n",
       "  u'/watch?v=wzY8Bzz9FS4&list=PLbzpIznMzZ7MCBvdVht0KVMC7MdnKdbui&index=74'),\n",
       " ('\\n      The Humma Song \\xe2\\x80\\x93 OK Jaanu | Shraddha Kapoor | Aditya Roy Kapur | A.R. Rahman, Badshah, Tanishk\\n    ',\n",
       "  u'/watch?v=1tVL11ULjYY&list=PLbzpIznMzZ7MCBvdVht0KVMC7MdnKdbui&index=75'),\n",
       " ('\\n      Dangal - Title Track | Full Audio | Dangal | Aamir Khan | Pritam | Amitabh B | Daler Mehndi\\n    ',\n",
       "  u'/watch?v=y60avV4uiPM&list=PLbzpIznMzZ7MCBvdVht0KVMC7MdnKdbui&index=76'),\n",
       " ('\\n      Bulleya - Lyric Video | Ae Dil Hai Mushkil | Ranbir | Aishwarya\\n    ',\n",
       "  u'/watch?v=sntrCk3Ym-Q&list=PLbzpIznMzZ7MCBvdVht0KVMC7MdnKdbui&index=77')]"
      ]
     },
     "execution_count": 19,
     "metadata": {},
     "output_type": "execute_result"
    }
   ],
   "source": [
    "songs"
   ]
  },
  {
   "cell_type": "code",
   "execution_count": 20,
   "metadata": {
    "collapsed": true
   },
   "outputs": [],
   "source": [
    "path = '/home/sidak/Music/Hindi_Songs_Youtube/'"
   ]
  },
  {
   "cell_type": "code",
   "execution_count": 21,
   "metadata": {
    "collapsed": true
   },
   "outputs": [],
   "source": [
    "os.chdir(path)"
   ]
  },
  {
   "cell_type": "code",
   "execution_count": 68,
   "metadata": {
    "collapsed": false
   },
   "outputs": [
    {
     "data": {
      "text/plain": [
       "True"
      ]
     },
     "execution_count": 68,
     "metadata": {},
     "output_type": "execute_result"
    }
   ],
   "source": [
    "os.path.isfile(full_name)"
   ]
  },
  {
   "cell_type": "code",
   "execution_count": 129,
   "metadata": {
    "collapsed": false
   },
   "outputs": [],
   "source": [
    "full_name = full_name.replace('|', '-')"
   ]
  },
  {
   "cell_type": "code",
   "execution_count": 130,
   "metadata": {
    "collapsed": false
   },
   "outputs": [
    {
     "data": {
      "text/plain": [
       "'Mere Haath Mein - Full Song - Fanaa - Aamir Khan - Kajol.mp3'"
      ]
     },
     "execution_count": 130,
     "metadata": {},
     "output_type": "execute_result"
    }
   ],
   "source": [
    "full_name"
   ]
  },
  {
   "cell_type": "code",
   "execution_count": 60,
   "metadata": {
    "collapsed": false
   },
   "outputs": [],
   "source": [
    " command_tokens = [\n",
    "        'youtube-dl',\n",
    "        '--extract-audio',\n",
    "        '--audio-format mp3',\n",
    "        '--audio-quality 0',\n",
    "        '--output \\'Anwar - Maula Mere Maula Aankhein Teri Kitni Haseen Ke Inka Aashique - RoopKumar Rathod.mp3\\'',\n",
    "        'https://www.youtube.com' + song_link]"
   ]
  },
  {
   "cell_type": "code",
   "execution_count": 31,
   "metadata": {
    "collapsed": false
   },
   "outputs": [
    {
     "ename": "SyntaxError",
     "evalue": "invalid syntax (<ipython-input-31-de146de177e9>, line 1)",
     "output_type": "error",
     "traceback": [
      "\u001b[1;36m  File \u001b[1;32m\"<ipython-input-31-de146de177e9>\"\u001b[1;36m, line \u001b[1;32m1\u001b[0m\n\u001b[1;33m    https://www.youtube.com/watch?v=RwJmfMPlXaU\u001b[0m\n\u001b[1;37m         ^\u001b[0m\n\u001b[1;31mSyntaxError\u001b[0m\u001b[1;31m:\u001b[0m invalid syntax\n"
     ]
    }
   ],
   "source": [
    "https://www.youtube.com/watch?v=RwJmfMPlXaU"
   ]
  },
  {
   "cell_type": "code",
   "execution_count": 152,
   "metadata": {
    "collapsed": false
   },
   "outputs": [],
   "source": [
    "video_link = songs[2][1]"
   ]
  },
  {
   "cell_type": "code",
   "execution_count": 153,
   "metadata": {
    "collapsed": false
   },
   "outputs": [],
   "source": [
    "video_link = str(video_link.strip())"
   ]
  },
  {
   "cell_type": "code",
   "execution_count": 154,
   "metadata": {
    "collapsed": false
   },
   "outputs": [],
   "source": [
    "video_link=video_link.split('&')"
   ]
  },
  {
   "cell_type": "code",
   "execution_count": 155,
   "metadata": {
    "collapsed": true
   },
   "outputs": [],
   "source": [
    "song_link = video_link[0]"
   ]
  },
  {
   "cell_type": "code",
   "execution_count": 156,
   "metadata": {
    "collapsed": false
   },
   "outputs": [
    {
     "data": {
      "text/plain": [
       "'/watch?v=Mv3SZDP7QUo'"
      ]
     },
     "execution_count": 156,
     "metadata": {},
     "output_type": "execute_result"
    }
   ],
   "source": [
    "song_link"
   ]
  },
  {
   "cell_type": "code",
   "execution_count": 61,
   "metadata": {
    "collapsed": true
   },
   "outputs": [],
   "source": [
    "command = ' '.join(command_tokens)"
   ]
  },
  {
   "cell_type": "code",
   "execution_count": 62,
   "metadata": {
    "collapsed": false
   },
   "outputs": [
    {
     "data": {
      "text/plain": [
       "\"youtube-dl --extract-audio --audio-format mp3 --audio-quality 0 --output 'Anwar - Maula Mere Maula Aankhein Teri Kitni Haseen Ke Inka Aashique - RoopKumar Rathod.mp3' https://www.youtube.com/watch?v=RwJmfMPlXaU\""
      ]
     },
     "execution_count": 62,
     "metadata": {},
     "output_type": "execute_result"
    }
   ],
   "source": [
    "command"
   ]
  },
  {
   "cell_type": "code",
   "execution_count": 160,
   "metadata": {
    "collapsed": false
   },
   "outputs": [
    {
     "data": {
      "text/plain": [
       "0"
      ]
     },
     "execution_count": 160,
     "metadata": {},
     "output_type": "execute_result"
    }
   ],
   "source": [
    "os.system(command)"
   ]
  },
  {
   "cell_type": "code",
   "execution_count": 157,
   "metadata": {
    "collapsed": false
   },
   "outputs": [],
   "source": [
    "command_tokens = [\n",
    "        'youtube-dl',\n",
    "        '--extract-audio',\n",
    "        '--audio-format mp3',\n",
    "        '--audio-quality 0',\n",
    "       '--output \\'%(title)s.%(ext)s\\'',\n",
    "        'https://www.youtube.com' + song_link]"
   ]
  },
  {
   "cell_type": "code",
   "execution_count": 158,
   "metadata": {
    "collapsed": true
   },
   "outputs": [],
   "source": [
    "command = ' '.join(command_tokens)"
   ]
  },
  {
   "cell_type": "code",
   "execution_count": 159,
   "metadata": {
    "collapsed": false
   },
   "outputs": [
    {
     "data": {
      "text/plain": [
       "\"youtube-dl --extract-audio --audio-format mp3 --audio-quality 0 --output '%(title)s.%(ext)s' https://www.youtube.com/watch?v=Mv3SZDP7QUo\""
      ]
     },
     "execution_count": 159,
     "metadata": {},
     "output_type": "execute_result"
    }
   ],
   "source": [
    "command"
   ]
  },
  {
   "cell_type": "code",
   "execution_count": 135,
   "metadata": {
    "collapsed": true
   },
   "outputs": [],
   "source": [
    "command1 = \"youtube-dl --extract-audio --audio-format mp3 --audio-quality 0 https://www.youtube.com/watch?v=5n4-une1aPQ\""
   ]
  },
  {
   "cell_type": "code",
   "execution_count": 161,
   "metadata": {
    "collapsed": true
   },
   "outputs": [],
   "source": [
    "import re\n",
    "word1 = \" \".join(re.findall(\"[a-zA-Z]+\", full_name))"
   ]
  },
  {
   "cell_type": "code",
   "execution_count": 162,
   "metadata": {
    "collapsed": false
   },
   "outputs": [
    {
     "data": {
      "text/plain": [
       "'Khamoshiyan Title Song Ali Fazal Sapna Pabbi Gurmeet Choudhary Arijit Singh mp'"
      ]
     },
     "execution_count": 162,
     "metadata": {},
     "output_type": "execute_result"
    }
   ],
   "source": [
    "word1"
   ]
  },
  {
   "cell_type": "code",
   "execution_count": null,
   "metadata": {
    "collapsed": true
   },
   "outputs": [],
   "source": []
  }
 ],
 "metadata": {
  "kernelspec": {
   "display_name": "Python 2",
   "language": "python",
   "name": "python2"
  },
  "language_info": {
   "codemirror_mode": {
    "name": "ipython",
    "version": 2
   },
   "file_extension": ".py",
   "mimetype": "text/x-python",
   "name": "python",
   "nbconvert_exporter": "python",
   "pygments_lexer": "ipython2",
   "version": "2.7.11"
  }
 },
 "nbformat": 4,
 "nbformat_minor": 0
}
